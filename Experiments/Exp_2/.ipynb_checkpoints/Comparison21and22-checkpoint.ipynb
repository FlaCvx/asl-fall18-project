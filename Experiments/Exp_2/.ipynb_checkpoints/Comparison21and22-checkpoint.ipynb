{
 "cells": [
  {
   "cell_type": "code",
   "execution_count": 50,
   "metadata": {},
   "outputs": [],
   "source": [
    "import csv\n",
    "import numpy as np\n",
    "import matplotlib.pyplot as plt\n",
    "import matplotlib.patches as mpatches\n",
    "from matplotlib.ticker import NullFormatter  , ScalarFormatter\n",
    "import matplotlib.axes as ax\n",
    "import numpy as np\n",
    "import statistics as st\n",
    "\n",
    "\n",
    "threads = 2\n",
    "num_client_machines = 3\n",
    "connections_per_thread = [1, 8, 16, 22, 28, 32, 40, 50]\n",
    "clients21 = []\n",
    "\n",
    "for c in connections_per_thread:\n",
    "    clients21.append(c*threads*num_client_machines)\n",
    "\n",
    "    \n",
    "threads = 2 #Come se fossero le instances\n",
    "num_client_machines = 1\n",
    "connections_per_thread = [1, 8, 16, 22, 28, 32, 40, 50, 60, 100]\n",
    "clients22 = []\n",
    "\n",
    "for c in connections_per_thread:\n",
    "    clients22.append(c*threads*num_client_machines)\n",
    "\n"
   ]
  },
  {
   "cell_type": "code",
   "execution_count": 79,
   "metadata": {},
   "outputs": [],
   "source": [
    "def conv(array_string):\n",
    "    new = np.zeros((len(array_string)))\n",
    "    for i in range(0,len(array_string),1):\n",
    "        new[i] = float(array_string[i])\n",
    "    return new    "
   ]
  },
  {
   "cell_type": "code",
   "execution_count": 81,
   "metadata": {},
   "outputs": [],
   "source": [
    "with open('./Write_Only_DataExp21.csv', 'rb') as csvfile:\n",
    "    i = 0\n",
    "    reader = csv.reader(csvfile)\n",
    "    for row in reader:\n",
    "        if(i==0):\n",
    "            WO21allClients_throughput_means = conv(row)\n",
    "        elif(i==1):\n",
    "            WO21allClients_throughput_std = conv(row)\n",
    "        elif(i==2):\n",
    "            WO21allClients_IDEAL_throughput_means = conv(row)\n",
    "        elif(i==3):\n",
    "            WO21allClients_IDEAL_throughput_std = conv(row)\n",
    "        elif(i==4):\n",
    "            WO21allClients_WEIGHTED_latencies_mean = conv(row)\n",
    "        elif(i==5):\n",
    "            WO21allClients_WEIGHTED_latencies_std = conv(row)\n",
    "        elif(i==6):\n",
    "            WO21allClients_WEIGHTED_IDEAL_latencies_mean = conv(row)\n",
    "        else:\n",
    "            WO21allClients_WEIGHTED_IDEAL_latencies_std = conv(row)\n",
    "        i += 1\n",
    "\n",
    "        "
   ]
  },
  {
   "cell_type": "code",
   "execution_count": 82,
   "metadata": {},
   "outputs": [],
   "source": [
    "\n",
    "with open('./Read_Only_DataExp21.csv', 'rb') as csvfile:\n",
    "    i = 0\n",
    "    reader = csv.reader(csvfile)\n",
    "    for row in reader:\n",
    "        if(i==0):\n",
    "            RO21allClients_throughput_means = conv(row)\n",
    "        elif(i==1):\n",
    "            RO21allClients_throughput_std = conv(row)\n",
    "        elif(i==2):\n",
    "            RO21allClients_IDEAL_throughput_means = conv(row)\n",
    "        elif(i==3):\n",
    "            RO21allClients_IDEAL_throughput_std = conv(row)\n",
    "        elif(i==4):\n",
    "            RO21allClients_WEIGHTED_latencies_mean = conv(row)\n",
    "        elif(i==5):\n",
    "            RO21allClients_WEIGHTED_latencies_std = conv(row)\n",
    "        elif(i==6):\n",
    "            RO21allClients_WEIGHTED_IDEAL_latencies_mean = conv(row)\n",
    "        else:\n",
    "            RO21allClients_WEIGHTED_IDEAL_latencies_std = conv(row)\n",
    "        i += 1\n",
    "\n",
    "        \n"
   ]
  },
  {
   "cell_type": "code",
   "execution_count": 41,
   "metadata": {},
   "outputs": [],
   "source": [
    "with open('./Write_Only_DataExp22.csv', 'rb') as csvfile:\n",
    "    i = 0\n",
    "    reader = csv.reader(csvfile)\n",
    "    for row in reader:\n",
    "        if(i==0):\n",
    "            WO22allInstances_c1_throughput_means = conv(row)\n",
    "        elif(i==1):\n",
    "            WO22allInstances_c1_throughput_std = conv(row)\n",
    "        elif(i==2):\n",
    "            WO22allInstances_c1_IDEAL_throughput_means = conv(row)\n",
    "        elif(i==3):\n",
    "            WO22allInstances_c1_IDEAL_throughput_std = conv(row)\n",
    "        elif(i==4):\n",
    "            WO22allInstances_WEIGHTED_latencies_mean = conv(row)\n",
    "        elif(i==5):\n",
    "            WO22allInstances_WEIGHTED_latencies_std = conv(row)\n",
    "        elif(i==6):\n",
    "            WO22allInstances_WEIGHTED_IDEAL_latencies_mean = conv(row)\n",
    "        elif(i==7):\n",
    "            WO22allInstances_WEIGHTED_IDEAL_latencies_std = conv(row)\n",
    "        i += 1\n",
    "\n",
    "        \n",
    "        "
   ]
  },
  {
   "cell_type": "code",
   "execution_count": 42,
   "metadata": {},
   "outputs": [],
   "source": [
    "with open('./Read_Only_DataExp22.csv', 'rb') as csvfile:\n",
    "    i = 0\n",
    "    reader = csv.reader(csvfile)\n",
    "    for row in reader:\n",
    "        if(i==0):\n",
    "            ROallInstances_c1_throughput_means = row\n",
    "        elif(i==1):\n",
    "            RO22allInstances_c1_throughput_std = row\n",
    "        elif(i==2):\n",
    "            RO22allInstances_c1_IDEAL_throughput_means = row\n",
    "        elif(i==3):\n",
    "            RO22allInstances_c1_IDEAL_throughput_std = row\n",
    "        elif(i==4):\n",
    "            RO22allInstances_WEIGHTED_latencies_mean = row\n",
    "        elif(i==5):\n",
    "            RO22allInstances_WEIGHTED_latencies_std = row\n",
    "        elif(i==6):\n",
    "            RO22allInstances_WEIGHTED_IDEAL_latencies_mean = row\n",
    "        elif(i==7):\n",
    "            RO22allInstances_WEIGHTED_IDEAL_latencies_std = row\n",
    "        i += 1"
   ]
  },
  {
   "cell_type": "markdown",
   "metadata": {},
   "source": [
    "## Comparison between the two Experiments"
   ]
  },
  {
   "cell_type": "code",
   "execution_count": 51,
   "metadata": {},
   "outputs": [
    {
     "data": {
      "text/plain": [
       "[6, 48, 96, 132, 168, 192, 240, 300]"
      ]
     },
     "execution_count": 51,
     "metadata": {},
     "output_type": "execute_result"
    }
   ],
   "source": [
    "clients21"
   ]
  },
  {
   "cell_type": "code",
   "execution_count": 68,
   "metadata": {},
   "outputs": [
    {
     "data": {
      "text/plain": [
       "['165.05617972880194',\n",
       " '339.9395558036746',\n",
       " '130.21199048730932',\n",
       " '16.492072843236087',\n",
       " '386.35103082847127',\n",
       " '711.5753580612516',\n",
       " '373.56063285927394',\n",
       " '392.0169345265002']"
      ]
     },
     "execution_count": 68,
     "metadata": {},
     "output_type": "execute_result"
    }
   ],
   "source": [
    "WO21allClients_throughput_std\n"
   ]
  },
  {
   "cell_type": "code",
   "execution_count": null,
   "metadata": {},
   "outputs": [],
   "source": []
  },
  {
   "cell_type": "code",
   "execution_count": 52,
   "metadata": {},
   "outputs": [
    {
     "data": {
      "text/plain": [
       "[2, 16, 32, 44, 56, 64, 80, 100, 120, 200]"
      ]
     },
     "execution_count": 52,
     "metadata": {},
     "output_type": "execute_result"
    }
   ],
   "source": [
    "clients22"
   ]
  },
  {
   "cell_type": "code",
   "execution_count": 66,
   "metadata": {},
   "outputs": [
    {
     "ename": "ValueError",
     "evalue": "err must be [ scalar | N, Nx1 or 2xN array-like ]",
     "output_type": "error",
     "traceback": [
      "\u001b[0;31m---------------------------------------------------------------------------\u001b[0m",
      "\u001b[0;31mValueError\u001b[0m                                Traceback (most recent call last)",
      "\u001b[0;32m<ipython-input-66-8276af3d58f8>\u001b[0m in \u001b[0;36m<module>\u001b[0;34m()\u001b[0m\n\u001b[1;32m      8\u001b[0m \u001b[0;31m#line_c2, = plt.plot(clients22[0:8], WO22allInstances_c1_throughput_means[0:8], color='black', linestyle='dashed', marker='o', markerfacecolor='black',markersize=2 )\u001b[0m\u001b[0;34m\u001b[0m\u001b[0;34m\u001b[0m\u001b[0m\n\u001b[1;32m      9\u001b[0m \u001b[0;34m\u001b[0m\u001b[0m\n\u001b[0;32m---> 10\u001b[0;31m \u001b[0max_lst\u001b[0m\u001b[0;34m.\u001b[0m\u001b[0merrorbar\u001b[0m\u001b[0;34m(\u001b[0m\u001b[0mclients21\u001b[0m\u001b[0;34m,\u001b[0m\u001b[0mWO21allClients_throughput_means\u001b[0m\u001b[0;34m,\u001b[0m \u001b[0myerr\u001b[0m\u001b[0;34m=\u001b[0m\u001b[0mWO21allClients_throughput_std\u001b[0m\u001b[0;34m,\u001b[0m \u001b[0mfmt\u001b[0m\u001b[0;34m=\u001b[0m\u001b[0mNone\u001b[0m\u001b[0;34m,\u001b[0m \u001b[0mecolor\u001b[0m\u001b[0;34m=\u001b[0m\u001b[0;34m'b'\u001b[0m\u001b[0;34m,\u001b[0m \u001b[0mcapthick\u001b[0m\u001b[0;34m=\u001b[0m\u001b[0;36m1\u001b[0m\u001b[0;34m,\u001b[0m \u001b[0mcapsize\u001b[0m\u001b[0;34m=\u001b[0m\u001b[0;36m4\u001b[0m\u001b[0;34m)\u001b[0m\u001b[0;34m\u001b[0m\u001b[0m\n\u001b[0m\u001b[1;32m     11\u001b[0m \u001b[0;31m#ax_lst.errorbar(clients22[0:8],WO22allInstances_c1_throughput_means[0:8], yerr=WO22allInstances_c1_throughput_std[0:8], fmt=None, ecolor='black', capthick=1, capsize=4)\u001b[0m\u001b[0;34m\u001b[0m\u001b[0;34m\u001b[0m\u001b[0m\n\u001b[1;32m     12\u001b[0m \u001b[0;34m\u001b[0m\u001b[0m\n",
      "\u001b[0;32m/home/fla/miniconda2/lib/python2.7/site-packages/matplotlib/__init__.pyc\u001b[0m in \u001b[0;36minner\u001b[0;34m(ax, *args, **kwargs)\u001b[0m\n\u001b[1;32m   1708\u001b[0m                     warnings.warn(msg % (label_namer, func.__name__),\n\u001b[1;32m   1709\u001b[0m                                   RuntimeWarning, stacklevel=2)\n\u001b[0;32m-> 1710\u001b[0;31m             \u001b[0;32mreturn\u001b[0m \u001b[0mfunc\u001b[0m\u001b[0;34m(\u001b[0m\u001b[0max\u001b[0m\u001b[0;34m,\u001b[0m \u001b[0;34m*\u001b[0m\u001b[0margs\u001b[0m\u001b[0;34m,\u001b[0m \u001b[0;34m**\u001b[0m\u001b[0mkwargs\u001b[0m\u001b[0;34m)\u001b[0m\u001b[0;34m\u001b[0m\u001b[0m\n\u001b[0m\u001b[1;32m   1711\u001b[0m         \u001b[0mpre_doc\u001b[0m \u001b[0;34m=\u001b[0m \u001b[0minner\u001b[0m\u001b[0;34m.\u001b[0m\u001b[0m__doc__\u001b[0m\u001b[0;34m\u001b[0m\u001b[0m\n\u001b[1;32m   1712\u001b[0m         \u001b[0;32mif\u001b[0m \u001b[0mpre_doc\u001b[0m \u001b[0;32mis\u001b[0m \u001b[0mNone\u001b[0m\u001b[0;34m:\u001b[0m\u001b[0;34m\u001b[0m\u001b[0m\n",
      "\u001b[0;32m/home/fla/miniconda2/lib/python2.7/site-packages/matplotlib/axes/_axes.pyc\u001b[0m in \u001b[0;36merrorbar\u001b[0;34m(self, x, y, yerr, xerr, fmt, ecolor, elinewidth, capsize, barsabove, lolims, uplims, xlolims, xuplims, errorevery, capthick, **kwargs)\u001b[0m\n\u001b[1;32m   3082\u001b[0m \u001b[0;34m\u001b[0m\u001b[0m\n\u001b[1;32m   3083\u001b[0m         \u001b[0;32mif\u001b[0m \u001b[0myerr\u001b[0m \u001b[0;32mis\u001b[0m \u001b[0;32mnot\u001b[0m \u001b[0mNone\u001b[0m\u001b[0;34m:\u001b[0m\u001b[0;34m\u001b[0m\u001b[0m\n\u001b[0;32m-> 3084\u001b[0;31m             \u001b[0mlower\u001b[0m\u001b[0;34m,\u001b[0m \u001b[0mupper\u001b[0m \u001b[0;34m=\u001b[0m \u001b[0mextract_err\u001b[0m\u001b[0;34m(\u001b[0m\u001b[0myerr\u001b[0m\u001b[0;34m,\u001b[0m \u001b[0my\u001b[0m\u001b[0;34m)\u001b[0m\u001b[0;34m\u001b[0m\u001b[0m\n\u001b[0m\u001b[1;32m   3085\u001b[0m             \u001b[0;31m# select points without upper/lower limits in y and\u001b[0m\u001b[0;34m\u001b[0m\u001b[0;34m\u001b[0m\u001b[0m\n\u001b[1;32m   3086\u001b[0m             \u001b[0;31m# draw normal errorbars for these points\u001b[0m\u001b[0;34m\u001b[0m\u001b[0;34m\u001b[0m\u001b[0m\n",
      "\u001b[0;32m/home/fla/miniconda2/lib/python2.7/site-packages/matplotlib/axes/_axes.pyc\u001b[0m in \u001b[0;36mextract_err\u001b[0;34m(err, data)\u001b[0m\n\u001b[1;32m   3023\u001b[0m                 if (len(err) != len(data)\n\u001b[1;32m   3024\u001b[0m                         or isinstance(fe, Sized) and len(fe) > 1):\n\u001b[0;32m-> 3025\u001b[0;31m                     raise ValueError(\"err must be [ scalar | N, Nx1 \"\n\u001b[0m\u001b[1;32m   3026\u001b[0m                                      \"or 2xN array-like ]\")\n\u001b[1;32m   3027\u001b[0m             \u001b[0;31m# using list comps rather than arrays to preserve units\u001b[0m\u001b[0;34m\u001b[0m\u001b[0;34m\u001b[0m\u001b[0m\n",
      "\u001b[0;31mValueError\u001b[0m: err must be [ scalar | N, Nx1 or 2xN array-like ]"
     ]
    },
    {
     "data": {
      "image/png": "[encoded data removed]",
      "text/plain": [
       "<matplotlib.figure.Figure at 0x7fa70a8a4310>"
      ]
     },
     "metadata": {},
     "output_type": "display_data"
    }
   ],
   "source": [
    "#USE clients\n",
    "fig, ax_lst = plt.subplots(1, 1) \n",
    "plt.xlabel('Number of clients')\n",
    "plt.ylabel('Throughput (ops/sec)')\n",
    "plt.title(\"Comparison of the write-only workload measured in the two experiments \")\n",
    "plt.grid('true', axis='both', fillstyle='left', linestyle='dashed',clip_on='true')\n",
    "line_c1, = plt.plot(clients21, WO21allClients_throughput_means, color='blue', linestyle='solid', marker='o',markerfacecolor='blue', markersize=2)\n",
    "#line_c2, = plt.plot(clients22[0:8], WO22allInstances_c1_throughput_means[0:8], color='black', linestyle='dashed', marker='o', markerfacecolor='black',markersize=2 )\n",
    "\n",
    "ax_lst.errorbar(clients21,WO21allClients_throughput_means, yerr=WO21allClients_throughput_std, fmt=None, ecolor='b', capthick=1, capsize=4)\n",
    "#ax_lst.errorbar(clients22[0:8],WO22allInstances_c1_throughput_means[0:8], yerr=WO22allInstances_c1_throughput_std[0:8], fmt=None, ecolor='black', capthick=1, capsize=4)\n",
    "\n",
    "\n",
    "#plt.legend([ line_c1, line_c2 ], ['Measured throughput','Interactive law'])\n",
    "plt.savefig(\"WRITE_ONLYforBOTHExperiments.png\", bbox_inches='tight')"
   ]
  },
  {
   "cell_type": "code",
   "execution_count": null,
   "metadata": {},
   "outputs": [],
   "source": [
    "#USE clients\n",
    "fig, ax_lst = plt.subplots(1, 1) \n",
    "plt.xlabel('Number of clients')\n",
    "plt.ylabel('Latency (ops/sec)')\n",
    "plt.title(\"Latency of a write-only workload measured in the client\")\n",
    "plt.grid('true', axis='both', fillstyle='left', linestyle='dashed',clip_on='true')\n",
    "line_c1, = plt.plot(clients, WO_allInstances_WEIGHTED_latencies_mean, color='blue', linestyle='solid', marker='o',markerfacecolor='blue', markersize=2)\n",
    "line_c2, = plt.plot(clients, WO_allInstances_WEIGHTED_IDEAL_latencies_mean, color='black', linestyle='dashed', marker='o', markerfacecolor='black',markersize=2 )\n",
    "\n",
    "ax_lst.errorbar(clients,WO_allInstances_WEIGHTED_latencies_mean, yerr=WO_allInstances_WEIGHTED_latencies_std, fmt=None, ecolor='black', capthick=1, capsize=4)\n",
    "ax_lst.errorbar(clients,WO_allInstances_WEIGHTED_IDEAL_latencies_mean, yerr=WO_allInstances_WEIGHTED_IDEAL_latencies_std, fmt=None, ecolor='black', capthick=1, capsize=4)\n",
    "\n",
    "plt.legend([ line_c1, line_c2 ], ['Measured latency','Interactive law'])\n",
    "plt.savefig(\"LatencyE22WOallInstances.png\", bbox_inches='tight')"
   ]
  },
  {
   "cell_type": "code",
   "execution_count": null,
   "metadata": {},
   "outputs": [],
   "source": []
  },
  {
   "cell_type": "code",
   "execution_count": null,
   "metadata": {},
   "outputs": [],
   "source": []
  }
 ],
 "metadata": {
  "kernelspec": {
   "display_name": "Python 2",
   "language": "python",
   "name": "python2"
  },
  "language_info": {
   "codemirror_mode": {
    "name": "ipython",
    "version": 2
   },
   "file_extension": ".py",
   "mimetype": "text/x-python",
   "name": "python",
   "nbconvert_exporter": "python",
   "pygments_lexer": "ipython2",
   "version": "2.7.15"
  }
 },
 "nbformat": 4,
 "nbformat_minor": 2
}
