{
 "cells": [
  {
   "cell_type": "markdown",
   "metadata": {},
   "source": [
    "# M/M/1"
   ]
  },
  {
   "cell_type": "code",
   "execution_count": 71,
   "metadata": {},
   "outputs": [
    {
     "name": "stdout",
     "output_type": "stream",
     "text": [
      "Mu: 14004.37636761488\n",
      "Ro: 0.857754725\n"
     ]
    }
   ],
   "source": [
    "# selecting parameters\n",
    "# 64 threads 28 VC clients\n",
    "\n",
    "\n",
    "### change only the following values\n",
    "\n",
    "threads = 64\n",
    "rt =  9.14\n",
    "lambdaa = 12012.32\n",
    "\n",
    "def lambda_mu(rt,VC):\n",
    "    Lambda = lambdaa #scegliamo o il lambda di 28 o 22 o 16\n",
    "    mu = (2*threads/rt)*1000 \n",
    "    #print(mu)\n",
    "    return mu,Lambda\n",
    "mu,Lambda = lambda_mu(rt,threads)\n",
    "ro = Lambda/mu\n",
    "\n",
    "print(\"Mu: \"+str(mu))\n",
    "print(\"Ro: \"+str(ro))\n"
   ]
  },
  {
   "cell_type": "code",
   "execution_count": 72,
   "metadata": {},
   "outputs": [
    {
     "name": "stdout",
     "output_type": "stream",
     "text": [
      "p_0: 0.14224527499999995 p_1: 0.16583444060888144 p_2: 0.1933355023009421\n",
      "jobs in the system:  6.030110490489054  jobs in queue:  5.172355765489054\n",
      "responce time:  0.501993827211484  waiting time:  0.430587577211484\n"
     ]
    },
    {
     "data": {
      "text/plain": [
       "(None, None)"
      ]
     },
     "execution_count": 72,
     "metadata": {},
     "output_type": "execute_result"
    }
   ],
   "source": [
    "\n",
    "# Probability of n jobs in the queue\n",
    "def p_n(n,ro):\n",
    "    p = (1-ro)/ro**n\n",
    "    return p\n",
    "p_0 = p_n(0,ro)\n",
    "p_1 = p_n(1,ro)\n",
    "p_2 = p_n(2,ro)\n",
    "print(\"p_0: \"+str(p_0), \"p_1: \"+str(p_1), \"p_2: \"+str(p_2))\n",
    "\n",
    "#Expected jobs in the system and in the queue\n",
    "\n",
    "def jobs(ro):\n",
    "    n = (ro/(1-ro)) #jobs in the system\n",
    "    n_q = (ro**2/(1-ro))\n",
    "    print(\"jobs in the system: \",n, \" jobs in queue: \", n_q)\n",
    "    #return n, n_q\n",
    "\n",
    "def mean_rt(mu,ro):\n",
    "    rt = ((1/mu)/(1-ro))*1000\n",
    "    waiting = ro*rt\n",
    "    print(\"responce time: \", rt, \" waiting time: \", waiting)\n",
    "    #return rt,waiting\n",
    "\n",
    "jobs(ro),mean_rt(mu,ro)"
   ]
  },
  {
   "cell_type": "markdown",
   "metadata": {},
   "source": [
    "# M/M/m"
   ]
  },
  {
   "cell_type": "code",
   "execution_count": 73,
   "metadata": {},
   "outputs": [
    {
     "data": {
      "text/plain": [
       "2.0556231119971365e-48"
      ]
     },
     "execution_count": 73,
     "metadata": {},
     "output_type": "execute_result"
    }
   ],
   "source": [
    "#probility of all terminals being idle\n",
    "from math import factorial\n",
    "\n",
    "def compute_sum(m,ro):\n",
    "    factor=0\n",
    "    for n in range(1,m):\n",
    "        factor += (((m*ro)**n)/(factorial(n)))\n",
    "    return factor\n",
    "def p_0(m,ro):\n",
    "    \n",
    "    sec = (((m*ro)**m)/(factorial(m)*(1-ro)))\n",
    "    third = compute_sum(m,ro)\n",
    "    \n",
    "    tot = 1 + sec + third\n",
    "    tot = 1/tot\n",
    "    return tot\n",
    "\n",
    "p_0(2*threads,ro)"
   ]
  },
  {
   "cell_type": "code",
   "execution_count": 77,
   "metadata": {},
   "outputs": [
    {
     "data": {
      "text/plain": [
       "0.058492597244122"
      ]
     },
     "execution_count": 77,
     "metadata": {},
     "output_type": "execute_result"
    }
   ],
   "source": [
    "#probability of all terminals beeing busy\n",
    "def busy_prob(m,ro):\n",
    "    p_zero = p_0(m,ro)\n",
    "    sec = (((m*ro)**m)/(factorial(m)*(1-ro)))\n",
    "    prob_all = p_zero*sec\n",
    "    return prob_all\n",
    "busy_prob(2*threads,ro)"
   ]
  },
  {
   "cell_type": "code",
   "execution_count": 78,
   "metadata": {},
   "outputs": [
    {
     "data": {
      "text/plain": [
       "(110.14532162425773, 0.3527168242577312)"
      ]
     },
     "execution_count": 78,
     "metadata": {},
     "output_type": "execute_result"
    }
   ],
   "source": [
    "#average number of requests in the system\n",
    "def numb_sys(m,ro):\n",
    "    all_busy = busy_prob(m,ro)\n",
    "    n_q = ((all_busy*ro)/(1-ro))\n",
    "    n = m*ro + n_q\n",
    "    return n,n_q\n",
    "numb_sys(2*threads,ro)"
   ]
  },
  {
   "cell_type": "code",
   "execution_count": 79,
   "metadata": {},
   "outputs": [
    {
     "data": {
      "text/plain": [
       "9.169362922754118"
      ]
     },
     "execution_count": 79,
     "metadata": {},
     "output_type": "execute_result"
    }
   ],
   "source": [
    "def mean_rt(m,ro,mu):\n",
    "    all_busy = busy_prob(m,ro)\n",
    "    first = 1/mu\n",
    "    sec = (1 + (all_busy/(m*(1-ro))))\n",
    "    rt = first*sec\n",
    "    return (rt)\n",
    "# il mu che devi passare è non mokltiplicato per il numero di sever è il puro e semplice mu\n",
    "u = (1/rt)*1000\n",
    "mean_rt(2*threads,ro,u)*1000\n"
   ]
  },
  {
   "cell_type": "code",
   "execution_count": 80,
   "metadata": {},
   "outputs": [
    {
     "data": {
      "text/plain": [
       "0.029362922754116706"
      ]
     },
     "execution_count": 80,
     "metadata": {},
     "output_type": "execute_result"
    }
   ],
   "source": [
    "def queue_time(m,ro,mu):\n",
    "    all_busy = busy_prob(m,ro)\n",
    "    qt = all_busy/(m*mu*(1-ro))\n",
    "    return qt\n",
    "queue_time(2*threads,ro,u)*1000"
   ]
  },
  {
   "cell_type": "markdown",
   "metadata": {},
   "source": [
    "# Network Of Queues"
   ]
  },
  {
   "cell_type": "code",
   "execution_count": 91,
   "metadata": {},
   "outputs": [],
   "source": [
    "val = 2921/(2*64)"
   ]
  },
  {
   "cell_type": "code",
   "execution_count": 92,
   "metadata": {},
   "outputs": [],
   "source": [
    "t = 109.58/1000"
   ]
  },
  {
   "cell_type": "code",
   "execution_count": 93,
   "metadata": {},
   "outputs": [
    {
     "data": {
      "text/plain": [
       "2.5006498437499998"
      ]
     },
     "execution_count": 93,
     "metadata": {},
     "output_type": "execute_result"
    }
   ],
   "source": [
    "val*t"
   ]
  },
  {
   "cell_type": "code",
   "execution_count": 60,
   "metadata": {},
   "outputs": [
    {
     "data": {
      "text/plain": [
       "8533.333333333334"
      ]
     },
     "execution_count": 60,
     "metadata": {},
     "output_type": "execute_result"
    }
   ],
   "source": [
    "1000*(1/15)*128"
   ]
  },
  {
   "cell_type": "code",
   "execution_count": null,
   "metadata": {},
   "outputs": [],
   "source": []
  }
 ],
 "metadata": {
  "kernelspec": {
   "display_name": "Python 3",
   "language": "python",
   "name": "python3"
  },
  "language_info": {
   "codemirror_mode": {
    "name": "ipython",
    "version": 3
   },
   "file_extension": ".py",
   "mimetype": "text/x-python",
   "name": "python",
   "nbconvert_exporter": "python",
   "pygments_lexer": "ipython3",
   "version": "3.5.2"
  }
 },
 "nbformat": 4,
 "nbformat_minor": 2
}
