{
 "cells": [
  {
   "cell_type": "markdown",
   "metadata": {},
   "source": [
    "# M/M/1"
   ]
  },
  {
   "cell_type": "code",
   "execution_count": 117,
   "metadata": {},
   "outputs": [
    {
     "name": "stdout",
     "output_type": "stream",
     "text": [
      "0.91689765625\n"
     ]
    }
   ],
   "source": [
    "# selecting parameters\n",
    "# 64 threads 28 VC clients\n",
    "\n",
    "\n",
    "###values 13.10 max throughout config\n",
    "\n",
    "threads = 64\n",
    "rt = 13.10\n",
    "\n",
    "def lambda_mu(rt,VC):\n",
    "    Lambda = 8959 #scegliamo o il lambda di 28 o 22 o 16\n",
    "    mu = (2*threads/rt)*1000 \n",
    "    #print(mu)\n",
    "    return mu,Lambda\n",
    "mu,Lambda = lambda_mu(rt,threads)\n",
    "ro = Lambda/mu\n",
    "print(ro)"
   ]
  },
  {
   "cell_type": "code",
   "execution_count": 118,
   "metadata": {},
   "outputs": [
    {
     "name": "stdout",
     "output_type": "stream",
     "text": [
      "0.08310234375000003 0.09063426346826811 0.09884883318270356\n"
     ]
    }
   ],
   "source": [
    "# Probability of n jobs in the queue\n",
    "def p_n(n,ro):\n",
    "    p = (1-ro)/ro**n\n",
    "    return p\n",
    "p_0 = p_n(0,ro)\n",
    "p_1 = p_n(1,ro)\n",
    "p_2 = p_n(2,ro)\n",
    "print(p_0,p_1,p_2)"
   ]
  },
  {
   "cell_type": "code",
   "execution_count": 119,
   "metadata": {},
   "outputs": [
    {
     "name": "stdout",
     "output_type": "stream",
     "text": [
      "jobs in the system:  11.033354955768015  jobs in queue:  10.116457299518016\n",
      "responce time:  1.2315386712543828  waiting time:  1.1291949212543828\n"
     ]
    },
    {
     "data": {
      "text/plain": [
       "(None, None)"
      ]
     },
     "execution_count": 119,
     "metadata": {},
     "output_type": "execute_result"
    }
   ],
   "source": [
    "#Expected jobs in the system and in the queue\n",
    "\n",
    "def jobs(ro):\n",
    "    n = (ro/(1-ro)) #jobs in the system\n",
    "    n_q = (ro**2/(1-ro))\n",
    "    print(\"jobs in the system: \",n, \" jobs in queue: \", n_q)\n",
    "    #return n, n_q\n",
    "\n",
    "def mean_rt(mu,ro):\n",
    "    rt = ((1/mu)/(1-ro))*1000\n",
    "    waiting = ro*rt\n",
    "    print(\"responce time: \", rt, \" waiting time: \", waiting)\n",
    "    #return rt,waiting\n",
    "\n",
    "jobs(ro),mean_rt(mu,ro)"
   ]
  },
  {
   "cell_type": "markdown",
   "metadata": {},
   "source": [
    "# M/M/m"
   ]
  },
  {
   "cell_type": "code",
   "execution_count": 120,
   "metadata": {},
   "outputs": [
    {
     "data": {
      "text/plain": [
       "4.607634579406671e-53"
      ]
     },
     "execution_count": 120,
     "metadata": {},
     "output_type": "execute_result"
    }
   ],
   "source": [
    "#probility of all terminals being idle\n",
    "from math import factorial\n",
    "\n",
    "def compute_sum(m,ro):\n",
    "    factor=0\n",
    "    for n in range(1,m):\n",
    "        factor += (((m*ro)**n)/(factorial(n)))\n",
    "    return factor\n",
    "def p_0(m,ro):\n",
    "    \n",
    "    sec = (((m*ro)**m)/(factorial(m)*(1-ro)))\n",
    "    third = compute_sum(m,ro)\n",
    "    \n",
    "    tot = 1 + sec + third\n",
    "    tot = 1/tot\n",
    "    return tot\n",
    "p_0(128,0.94)"
   ]
  },
  {
   "cell_type": "code",
   "execution_count": 121,
   "metadata": {},
   "outputs": [
    {
     "data": {
      "text/plain": [
       "0.3823033121998415"
      ]
     },
     "execution_count": 121,
     "metadata": {},
     "output_type": "execute_result"
    }
   ],
   "source": [
    "#probability of all terminals beeing busy\n",
    "def busy_prob(m,ro):\n",
    "    p_zero = p_0(m,ro)\n",
    "    sec = (((m*ro)**m)/(factorial(m)*(1-ro)))\n",
    "    prob_all = p_zero*sec\n",
    "    return prob_all\n",
    "busy_prob(128,0.94)"
   ]
  },
  {
   "cell_type": "code",
   "execution_count": 123,
   "metadata": {},
   "outputs": [
    {
     "data": {
      "text/plain": [
       "(120.04727927333708, 2.684379273337083)"
      ]
     },
     "execution_count": 123,
     "metadata": {},
     "output_type": "execute_result"
    }
   ],
   "source": [
    "#average number of requests in the system\n",
    "def numb_sys(m,ro):\n",
    "    all_busy = busy_prob(m,ro)\n",
    "    n_q = ((all_busy*ro)/(1-ro))\n",
    "    n = m*ro + n_q\n",
    "    return n,n_q\n",
    "numb_sys(2*threads,ro)"
   ]
  },
  {
   "cell_type": "code",
   "execution_count": 124,
   "metadata": {},
   "outputs": [
    {
     "data": {
      "text/plain": [
       "13.39962934181684"
      ]
     },
     "execution_count": 124,
     "metadata": {},
     "output_type": "execute_result"
    }
   ],
   "source": [
    "def mean_rt(m,ro,mu):\n",
    "    all_busy = busy_prob(m,ro)\n",
    "    first = 1/mu\n",
    "    sec = (1 + (all_busy/(m*(1-ro))))\n",
    "    rt = first*sec\n",
    "    return (rt)\n",
    "# il mu che devi passare è non mokltiplicato per il numero di sever è il puro e semplice mu\n",
    "u = (1/rt)*1000\n",
    "mean_rt(2*threads,ro,u)*1000\n"
   ]
  },
  {
   "cell_type": "code",
   "execution_count": 125,
   "metadata": {},
   "outputs": [
    {
     "data": {
      "text/plain": [
       "0.2996293418168415"
      ]
     },
     "execution_count": 125,
     "metadata": {},
     "output_type": "execute_result"
    }
   ],
   "source": [
    "def queue_time(m,ro,mu):\n",
    "    all_busy = busy_prob(m,ro)\n",
    "    qt = all_busy/(m*mu*(1-ro))\n",
    "    return qt\n",
    "queue_time(2*threads,ro,u)*1000"
   ]
  },
  {
   "cell_type": "markdown",
   "metadata": {},
   "source": [
    "# Network Of Queues"
   ]
  },
  {
   "cell_type": "code",
   "execution_count": 91,
   "metadata": {},
   "outputs": [],
   "source": [
    "val = 2921/(2*64)"
   ]
  },
  {
   "cell_type": "code",
   "execution_count": 92,
   "metadata": {},
   "outputs": [],
   "source": [
    "t = 109.58/1000"
   ]
  },
  {
   "cell_type": "code",
   "execution_count": 93,
   "metadata": {},
   "outputs": [
    {
     "data": {
      "text/plain": [
       "2.5006498437499998"
      ]
     },
     "execution_count": 93,
     "metadata": {},
     "output_type": "execute_result"
    }
   ],
   "source": [
    "val*t"
   ]
  },
  {
   "cell_type": "code",
   "execution_count": 60,
   "metadata": {},
   "outputs": [
    {
     "data": {
      "text/plain": [
       "8533.333333333334"
      ]
     },
     "execution_count": 60,
     "metadata": {},
     "output_type": "execute_result"
    }
   ],
   "source": [
    "1000*(1/15)*128"
   ]
  },
  {
   "cell_type": "code",
   "execution_count": null,
   "metadata": {},
   "outputs": [],
   "source": []
  }
 ],
 "metadata": {
  "kernelspec": {
   "display_name": "Python 3",
   "language": "python",
   "name": "python3"
  },
  "language_info": {
   "codemirror_mode": {
    "name": "ipython",
    "version": 3
   },
   "file_extension": ".py",
   "mimetype": "text/x-python",
   "name": "python",
   "nbconvert_exporter": "python",
   "pygments_lexer": "ipython3",
   "version": "3.5.2"
  }
 },
 "nbformat": 4,
 "nbformat_minor": 2
}
